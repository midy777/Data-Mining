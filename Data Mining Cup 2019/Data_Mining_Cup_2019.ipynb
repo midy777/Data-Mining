{
  "nbformat": 4,
  "nbformat_minor": 0,
  "metadata": {
    "colab": {
      "name": "Data Mining Cup 2019.ipynb",
      "provenance": [],
      "collapsed_sections": []
    },
    "kernelspec": {
      "name": "python3",
      "display_name": "Python 3"
    }
  },
  "cells": [
    {
      "cell_type": "markdown",
      "metadata": {
        "id": "-qBs5kaJEoFD"
      },
      "source": [
        "## Tugas Besar \n",
        "### MK Penambangan Data "
      ]
    },
    {
      "cell_type": "markdown",
      "metadata": {
        "id": "pqDQTIwTBcAe"
      },
      "source": [
        "<b>Nama<b>: Marina Irdayanti<br> \n",
        "<b>NIM<b>: 1301174319\n",
        "\n",
        "**Kelas: IF-41-GAB03**"
      ]
    },
    {
      "cell_type": "markdown",
      "metadata": {
        "id": "HKG5Oy0oE6YF"
      },
      "source": [
        "**Import library**"
      ]
    },
    {
      "cell_type": "code",
      "metadata": {
        "id": "xX0fJdEkTpam"
      },
      "source": [
        "import pandas as pd\n",
        "import numpy as np\n",
        "import matplotlib.pyplot as plt"
      ],
      "execution_count": null,
      "outputs": []
    },
    {
      "cell_type": "code",
      "metadata": {
        "id": "bSbL85peAQdQ",
        "colab": {
          "base_uri": "https://localhost:8080/"
        },
        "outputId": "6c083f0e-37ec-4f62-b491-7dd40e39c038"
      },
      "source": [
        "from google.colab import drive\n",
        "drive.mount('/content/drive')"
      ],
      "execution_count": null,
      "outputs": [
        {
          "output_type": "stream",
          "text": [
            "Drive already mounted at /content/drive; to attempt to forcibly remount, call drive.mount(\"/content/drive\", force_remount=True).\n"
          ],
          "name": "stdout"
        }
      ]
    },
    {
      "cell_type": "markdown",
      "metadata": {
        "id": "n41sWqDQFUjd"
      },
      "source": [
        "**Data Preparation**"
      ]
    },
    {
      "cell_type": "code",
      "metadata": {
        "id": "jsyGYrVSH_W1",
        "colab": {
          "base_uri": "https://localhost:8080/",
          "height": 431
        },
        "outputId": "f460e53c-a87a-4025-efd7-0ba2b2d58657"
      },
      "source": [
        "data = pd.read_csv(\"/content/drive/My Drive/baru/train.csv\", sep=\"|\")\n",
        "data"
      ],
      "execution_count": null,
      "outputs": [
        {
          "output_type": "execute_result",
          "data": {
            "text/html": [
              "<div>\n",
              "<style scoped>\n",
              "    .dataframe tbody tr th:only-of-type {\n",
              "        vertical-align: middle;\n",
              "    }\n",
              "\n",
              "    .dataframe tbody tr th {\n",
              "        vertical-align: top;\n",
              "    }\n",
              "\n",
              "    .dataframe thead th {\n",
              "        text-align: right;\n",
              "    }\n",
              "</style>\n",
              "<table border=\"1\" class=\"dataframe\">\n",
              "  <thead>\n",
              "    <tr style=\"text-align: right;\">\n",
              "      <th></th>\n",
              "      <th>trustLevel</th>\n",
              "      <th>totalScanTimeInSeconds</th>\n",
              "      <th>grandTotal</th>\n",
              "      <th>lineItemVoids</th>\n",
              "      <th>scansWithoutRegistration</th>\n",
              "      <th>quantityModifications</th>\n",
              "      <th>scannedLineItemsPerSecond</th>\n",
              "      <th>valuePerSecond</th>\n",
              "      <th>lineItemVoidsPerPosition</th>\n",
              "      <th>fraud</th>\n",
              "    </tr>\n",
              "  </thead>\n",
              "  <tbody>\n",
              "    <tr>\n",
              "      <th>0</th>\n",
              "      <td>5</td>\n",
              "      <td>1054</td>\n",
              "      <td>54.70</td>\n",
              "      <td>7</td>\n",
              "      <td>0</td>\n",
              "      <td>3</td>\n",
              "      <td>0.027514</td>\n",
              "      <td>0.051898</td>\n",
              "      <td>0.241379</td>\n",
              "      <td>0</td>\n",
              "    </tr>\n",
              "    <tr>\n",
              "      <th>1</th>\n",
              "      <td>3</td>\n",
              "      <td>108</td>\n",
              "      <td>27.36</td>\n",
              "      <td>5</td>\n",
              "      <td>2</td>\n",
              "      <td>4</td>\n",
              "      <td>0.129630</td>\n",
              "      <td>0.253333</td>\n",
              "      <td>0.357143</td>\n",
              "      <td>0</td>\n",
              "    </tr>\n",
              "    <tr>\n",
              "      <th>2</th>\n",
              "      <td>3</td>\n",
              "      <td>1516</td>\n",
              "      <td>62.16</td>\n",
              "      <td>3</td>\n",
              "      <td>10</td>\n",
              "      <td>5</td>\n",
              "      <td>0.008575</td>\n",
              "      <td>0.041003</td>\n",
              "      <td>0.230769</td>\n",
              "      <td>0</td>\n",
              "    </tr>\n",
              "    <tr>\n",
              "      <th>3</th>\n",
              "      <td>6</td>\n",
              "      <td>1791</td>\n",
              "      <td>92.31</td>\n",
              "      <td>8</td>\n",
              "      <td>4</td>\n",
              "      <td>4</td>\n",
              "      <td>0.016192</td>\n",
              "      <td>0.051541</td>\n",
              "      <td>0.275862</td>\n",
              "      <td>0</td>\n",
              "    </tr>\n",
              "    <tr>\n",
              "      <th>4</th>\n",
              "      <td>5</td>\n",
              "      <td>430</td>\n",
              "      <td>81.53</td>\n",
              "      <td>3</td>\n",
              "      <td>7</td>\n",
              "      <td>2</td>\n",
              "      <td>0.062791</td>\n",
              "      <td>0.189605</td>\n",
              "      <td>0.111111</td>\n",
              "      <td>0</td>\n",
              "    </tr>\n",
              "    <tr>\n",
              "      <th>...</th>\n",
              "      <td>...</td>\n",
              "      <td>...</td>\n",
              "      <td>...</td>\n",
              "      <td>...</td>\n",
              "      <td>...</td>\n",
              "      <td>...</td>\n",
              "      <td>...</td>\n",
              "      <td>...</td>\n",
              "      <td>...</td>\n",
              "      <td>...</td>\n",
              "    </tr>\n",
              "    <tr>\n",
              "      <th>1874</th>\n",
              "      <td>1</td>\n",
              "      <td>321</td>\n",
              "      <td>76.03</td>\n",
              "      <td>8</td>\n",
              "      <td>7</td>\n",
              "      <td>2</td>\n",
              "      <td>0.071651</td>\n",
              "      <td>0.236854</td>\n",
              "      <td>0.347826</td>\n",
              "      <td>0</td>\n",
              "    </tr>\n",
              "    <tr>\n",
              "      <th>1875</th>\n",
              "      <td>1</td>\n",
              "      <td>397</td>\n",
              "      <td>41.89</td>\n",
              "      <td>5</td>\n",
              "      <td>5</td>\n",
              "      <td>0</td>\n",
              "      <td>0.065491</td>\n",
              "      <td>0.105516</td>\n",
              "      <td>0.192308</td>\n",
              "      <td>1</td>\n",
              "    </tr>\n",
              "    <tr>\n",
              "      <th>1876</th>\n",
              "      <td>4</td>\n",
              "      <td>316</td>\n",
              "      <td>41.83</td>\n",
              "      <td>5</td>\n",
              "      <td>8</td>\n",
              "      <td>1</td>\n",
              "      <td>0.094937</td>\n",
              "      <td>0.132373</td>\n",
              "      <td>0.166667</td>\n",
              "      <td>0</td>\n",
              "    </tr>\n",
              "    <tr>\n",
              "      <th>1877</th>\n",
              "      <td>2</td>\n",
              "      <td>685</td>\n",
              "      <td>62.68</td>\n",
              "      <td>1</td>\n",
              "      <td>6</td>\n",
              "      <td>2</td>\n",
              "      <td>0.035036</td>\n",
              "      <td>0.091504</td>\n",
              "      <td>0.041667</td>\n",
              "      <td>0</td>\n",
              "    </tr>\n",
              "    <tr>\n",
              "      <th>1878</th>\n",
              "      <td>4</td>\n",
              "      <td>1140</td>\n",
              "      <td>38.03</td>\n",
              "      <td>2</td>\n",
              "      <td>2</td>\n",
              "      <td>3</td>\n",
              "      <td>0.016667</td>\n",
              "      <td>0.033360</td>\n",
              "      <td>0.105263</td>\n",
              "      <td>0</td>\n",
              "    </tr>\n",
              "  </tbody>\n",
              "</table>\n",
              "<p>1879 rows × 10 columns</p>\n",
              "</div>"
            ],
            "text/plain": [
              "      trustLevel  totalScanTimeInSeconds  ...  lineItemVoidsPerPosition  fraud\n",
              "0              5                    1054  ...                  0.241379      0\n",
              "1              3                     108  ...                  0.357143      0\n",
              "2              3                    1516  ...                  0.230769      0\n",
              "3              6                    1791  ...                  0.275862      0\n",
              "4              5                     430  ...                  0.111111      0\n",
              "...          ...                     ...  ...                       ...    ...\n",
              "1874           1                     321  ...                  0.347826      0\n",
              "1875           1                     397  ...                  0.192308      1\n",
              "1876           4                     316  ...                  0.166667      0\n",
              "1877           2                     685  ...                  0.041667      0\n",
              "1878           4                    1140  ...                  0.105263      0\n",
              "\n",
              "[1879 rows x 10 columns]"
            ]
          },
          "metadata": {
            "tags": []
          },
          "execution_count": 273
        }
      ]
    },
    {
      "cell_type": "markdown",
      "metadata": {
        "id": "sKbeuonZf_KT"
      },
      "source": [
        "**Missing Values**"
      ]
    },
    {
      "cell_type": "code",
      "metadata": {
        "colab": {
          "base_uri": "https://localhost:8080/"
        },
        "id": "hbDFdDdgfsFK",
        "outputId": "78f77b10-40c6-4e03-a73b-9cb91efb459d"
      },
      "source": [
        "total_cells = np.product(data.shape)\n",
        "total_missing = data.sum()\n",
        "\n",
        "# percent of data that is missing\n",
        "m = (total_missing/total_cells) * 100\n",
        "m"
      ],
      "execution_count": null,
      "outputs": [
        {
          "output_type": "execute_result",
          "data": {
            "text/plain": [
              "trustLevel                     34.018095\n",
              "totalScanTimeInSeconds       9321.532730\n",
              "grandTotal                    508.644918\n",
              "lineItemVoids                  54.699308\n",
              "scansWithoutRegistration       49.042044\n",
              "quantityModifications          25.252794\n",
              "scannedLineItemsPerSecond       0.581375\n",
              "valuePerSecond                  2.017457\n",
              "lineItemVoidsPerPosition        7.454044\n",
              "fraud                           0.553486\n",
              "dtype: float64"
            ]
          },
          "metadata": {
            "tags": []
          },
          "execution_count": 274
        }
      ]
    },
    {
      "cell_type": "code",
      "metadata": {
        "colab": {
          "base_uri": "https://localhost:8080/"
        },
        "id": "mqZugL8zf5iQ",
        "outputId": "0fe4ffeb-e1c2-499d-9f95-a4a4fb40f0d5"
      },
      "source": [
        "m.isnull()"
      ],
      "execution_count": null,
      "outputs": [
        {
          "output_type": "execute_result",
          "data": {
            "text/plain": [
              "trustLevel                   False\n",
              "totalScanTimeInSeconds       False\n",
              "grandTotal                   False\n",
              "lineItemVoids                False\n",
              "scansWithoutRegistration     False\n",
              "quantityModifications        False\n",
              "scannedLineItemsPerSecond    False\n",
              "valuePerSecond               False\n",
              "lineItemVoidsPerPosition     False\n",
              "fraud                        False\n",
              "dtype: bool"
            ]
          },
          "metadata": {
            "tags": []
          },
          "execution_count": 275
        }
      ]
    },
    {
      "cell_type": "code",
      "metadata": {
        "colab": {
          "base_uri": "https://localhost:8080/"
        },
        "id": "auqqdHz8C8Oj",
        "outputId": "4bf6108b-4613-403d-ff95-ae246d402285"
      },
      "source": [
        "print('Percent of missing \"fraud\" records is %.2f%%' %((data['fraud'].isnull().sum()/data.shape[0])*100))"
      ],
      "execution_count": null,
      "outputs": [
        {
          "output_type": "stream",
          "text": [
            "Percent of missing \"fraud\" records is 0.00%\n"
          ],
          "name": "stdout"
        }
      ]
    },
    {
      "cell_type": "code",
      "metadata": {
        "colab": {
          "base_uri": "https://localhost:8080/"
        },
        "id": "JN3QGDYkl_cJ",
        "outputId": "ec260922-2ffd-4964-87d8-32a508678894"
      },
      "source": [
        "data.duplicated().sum()"
      ],
      "execution_count": null,
      "outputs": [
        {
          "output_type": "execute_result",
          "data": {
            "text/plain": [
              "0"
            ]
          },
          "metadata": {
            "tags": []
          },
          "execution_count": 277
        }
      ]
    },
    {
      "cell_type": "markdown",
      "metadata": {
        "id": "KzCARD3QIKoD"
      },
      "source": [
        "**Adding Additional Features**"
      ]
    },
    {
      "cell_type": "code",
      "metadata": {
        "colab": {
          "base_uri": "https://localhost:8080/",
          "height": 431
        },
        "id": "h8RFSgUFm6dC",
        "outputId": "ad5e5290-d9cb-49a3-d799-03e28cfe99aa"
      },
      "source": [
        "data['lineItemVoidsScan'] = data['lineItemVoids'] * data['scansWithoutRegistration']\n",
        "data['ProductScan'] = data['grandTotal'] - data['lineItemVoids']\n",
        "data['CountTimeScan'] = data['totalScanTimeInSeconds'] - data['lineItemVoids']\n",
        "data['CountTimePerSecond'] = data['valuePerSecond'] - data['scannedLineItemsPerSecond']\n",
        "data"
      ],
      "execution_count": null,
      "outputs": [
        {
          "output_type": "execute_result",
          "data": {
            "text/html": [
              "<div>\n",
              "<style scoped>\n",
              "    .dataframe tbody tr th:only-of-type {\n",
              "        vertical-align: middle;\n",
              "    }\n",
              "\n",
              "    .dataframe tbody tr th {\n",
              "        vertical-align: top;\n",
              "    }\n",
              "\n",
              "    .dataframe thead th {\n",
              "        text-align: right;\n",
              "    }\n",
              "</style>\n",
              "<table border=\"1\" class=\"dataframe\">\n",
              "  <thead>\n",
              "    <tr style=\"text-align: right;\">\n",
              "      <th></th>\n",
              "      <th>trustLevel</th>\n",
              "      <th>totalScanTimeInSeconds</th>\n",
              "      <th>grandTotal</th>\n",
              "      <th>lineItemVoids</th>\n",
              "      <th>scansWithoutRegistration</th>\n",
              "      <th>quantityModifications</th>\n",
              "      <th>scannedLineItemsPerSecond</th>\n",
              "      <th>valuePerSecond</th>\n",
              "      <th>lineItemVoidsPerPosition</th>\n",
              "      <th>fraud</th>\n",
              "      <th>lineItemVoidsScan</th>\n",
              "      <th>ProductScan</th>\n",
              "      <th>CountTimeScan</th>\n",
              "      <th>CountTimePerSecond</th>\n",
              "    </tr>\n",
              "  </thead>\n",
              "  <tbody>\n",
              "    <tr>\n",
              "      <th>0</th>\n",
              "      <td>5</td>\n",
              "      <td>1054</td>\n",
              "      <td>54.70</td>\n",
              "      <td>7</td>\n",
              "      <td>0</td>\n",
              "      <td>3</td>\n",
              "      <td>0.027514</td>\n",
              "      <td>0.051898</td>\n",
              "      <td>0.241379</td>\n",
              "      <td>0</td>\n",
              "      <td>0</td>\n",
              "      <td>47.70</td>\n",
              "      <td>1047</td>\n",
              "      <td>0.024383</td>\n",
              "    </tr>\n",
              "    <tr>\n",
              "      <th>1</th>\n",
              "      <td>3</td>\n",
              "      <td>108</td>\n",
              "      <td>27.36</td>\n",
              "      <td>5</td>\n",
              "      <td>2</td>\n",
              "      <td>4</td>\n",
              "      <td>0.129630</td>\n",
              "      <td>0.253333</td>\n",
              "      <td>0.357143</td>\n",
              "      <td>0</td>\n",
              "      <td>10</td>\n",
              "      <td>22.36</td>\n",
              "      <td>103</td>\n",
              "      <td>0.123704</td>\n",
              "    </tr>\n",
              "    <tr>\n",
              "      <th>2</th>\n",
              "      <td>3</td>\n",
              "      <td>1516</td>\n",
              "      <td>62.16</td>\n",
              "      <td>3</td>\n",
              "      <td>10</td>\n",
              "      <td>5</td>\n",
              "      <td>0.008575</td>\n",
              "      <td>0.041003</td>\n",
              "      <td>0.230769</td>\n",
              "      <td>0</td>\n",
              "      <td>30</td>\n",
              "      <td>59.16</td>\n",
              "      <td>1513</td>\n",
              "      <td>0.032427</td>\n",
              "    </tr>\n",
              "    <tr>\n",
              "      <th>3</th>\n",
              "      <td>6</td>\n",
              "      <td>1791</td>\n",
              "      <td>92.31</td>\n",
              "      <td>8</td>\n",
              "      <td>4</td>\n",
              "      <td>4</td>\n",
              "      <td>0.016192</td>\n",
              "      <td>0.051541</td>\n",
              "      <td>0.275862</td>\n",
              "      <td>0</td>\n",
              "      <td>32</td>\n",
              "      <td>84.31</td>\n",
              "      <td>1783</td>\n",
              "      <td>0.035349</td>\n",
              "    </tr>\n",
              "    <tr>\n",
              "      <th>4</th>\n",
              "      <td>5</td>\n",
              "      <td>430</td>\n",
              "      <td>81.53</td>\n",
              "      <td>3</td>\n",
              "      <td>7</td>\n",
              "      <td>2</td>\n",
              "      <td>0.062791</td>\n",
              "      <td>0.189605</td>\n",
              "      <td>0.111111</td>\n",
              "      <td>0</td>\n",
              "      <td>21</td>\n",
              "      <td>78.53</td>\n",
              "      <td>427</td>\n",
              "      <td>0.126814</td>\n",
              "    </tr>\n",
              "    <tr>\n",
              "      <th>...</th>\n",
              "      <td>...</td>\n",
              "      <td>...</td>\n",
              "      <td>...</td>\n",
              "      <td>...</td>\n",
              "      <td>...</td>\n",
              "      <td>...</td>\n",
              "      <td>...</td>\n",
              "      <td>...</td>\n",
              "      <td>...</td>\n",
              "      <td>...</td>\n",
              "      <td>...</td>\n",
              "      <td>...</td>\n",
              "      <td>...</td>\n",
              "      <td>...</td>\n",
              "    </tr>\n",
              "    <tr>\n",
              "      <th>1874</th>\n",
              "      <td>1</td>\n",
              "      <td>321</td>\n",
              "      <td>76.03</td>\n",
              "      <td>8</td>\n",
              "      <td>7</td>\n",
              "      <td>2</td>\n",
              "      <td>0.071651</td>\n",
              "      <td>0.236854</td>\n",
              "      <td>0.347826</td>\n",
              "      <td>0</td>\n",
              "      <td>56</td>\n",
              "      <td>68.03</td>\n",
              "      <td>313</td>\n",
              "      <td>0.165202</td>\n",
              "    </tr>\n",
              "    <tr>\n",
              "      <th>1875</th>\n",
              "      <td>1</td>\n",
              "      <td>397</td>\n",
              "      <td>41.89</td>\n",
              "      <td>5</td>\n",
              "      <td>5</td>\n",
              "      <td>0</td>\n",
              "      <td>0.065491</td>\n",
              "      <td>0.105516</td>\n",
              "      <td>0.192308</td>\n",
              "      <td>1</td>\n",
              "      <td>25</td>\n",
              "      <td>36.89</td>\n",
              "      <td>392</td>\n",
              "      <td>0.040025</td>\n",
              "    </tr>\n",
              "    <tr>\n",
              "      <th>1876</th>\n",
              "      <td>4</td>\n",
              "      <td>316</td>\n",
              "      <td>41.83</td>\n",
              "      <td>5</td>\n",
              "      <td>8</td>\n",
              "      <td>1</td>\n",
              "      <td>0.094937</td>\n",
              "      <td>0.132373</td>\n",
              "      <td>0.166667</td>\n",
              "      <td>0</td>\n",
              "      <td>40</td>\n",
              "      <td>36.83</td>\n",
              "      <td>311</td>\n",
              "      <td>0.037437</td>\n",
              "    </tr>\n",
              "    <tr>\n",
              "      <th>1877</th>\n",
              "      <td>2</td>\n",
              "      <td>685</td>\n",
              "      <td>62.68</td>\n",
              "      <td>1</td>\n",
              "      <td>6</td>\n",
              "      <td>2</td>\n",
              "      <td>0.035036</td>\n",
              "      <td>0.091504</td>\n",
              "      <td>0.041667</td>\n",
              "      <td>0</td>\n",
              "      <td>6</td>\n",
              "      <td>61.68</td>\n",
              "      <td>684</td>\n",
              "      <td>0.056467</td>\n",
              "    </tr>\n",
              "    <tr>\n",
              "      <th>1878</th>\n",
              "      <td>4</td>\n",
              "      <td>1140</td>\n",
              "      <td>38.03</td>\n",
              "      <td>2</td>\n",
              "      <td>2</td>\n",
              "      <td>3</td>\n",
              "      <td>0.016667</td>\n",
              "      <td>0.033360</td>\n",
              "      <td>0.105263</td>\n",
              "      <td>0</td>\n",
              "      <td>4</td>\n",
              "      <td>36.03</td>\n",
              "      <td>1138</td>\n",
              "      <td>0.016693</td>\n",
              "    </tr>\n",
              "  </tbody>\n",
              "</table>\n",
              "<p>1879 rows × 14 columns</p>\n",
              "</div>"
            ],
            "text/plain": [
              "      trustLevel  totalScanTimeInSeconds  ...  CountTimeScan  CountTimePerSecond\n",
              "0              5                    1054  ...           1047            0.024383\n",
              "1              3                     108  ...            103            0.123704\n",
              "2              3                    1516  ...           1513            0.032427\n",
              "3              6                    1791  ...           1783            0.035349\n",
              "4              5                     430  ...            427            0.126814\n",
              "...          ...                     ...  ...            ...                 ...\n",
              "1874           1                     321  ...            313            0.165202\n",
              "1875           1                     397  ...            392            0.040025\n",
              "1876           4                     316  ...            311            0.037437\n",
              "1877           2                     685  ...            684            0.056467\n",
              "1878           4                    1140  ...           1138            0.016693\n",
              "\n",
              "[1879 rows x 14 columns]"
            ]
          },
          "metadata": {
            "tags": []
          },
          "execution_count": 278
        }
      ]
    },
    {
      "cell_type": "code",
      "metadata": {
        "id": "tekqcYtpCNov"
      },
      "source": [
        "df = data[['fraud']]"
      ],
      "execution_count": null,
      "outputs": []
    },
    {
      "cell_type": "code",
      "metadata": {
        "id": "3B4uoDuJCf__",
        "colab": {
          "base_uri": "https://localhost:8080/"
        },
        "outputId": "26537de4-cca4-4afa-f5e8-044fb8b858fa"
      },
      "source": [
        "# hitung hasil median untuk fraud\n",
        "median_fraud = df['fraud'].median()\n",
        "# Gantikan di kolom fraud dari kumpulan data yang nilainya 0\n",
        "df['fraud'] = df['fraud'].replace(\n",
        "    to_replace=0, value=median_fraud)"
      ],
      "execution_count": null,
      "outputs": [
        {
          "output_type": "stream",
          "text": [
            "/usr/local/lib/python3.6/dist-packages/ipykernel_launcher.py:5: SettingWithCopyWarning: \n",
            "A value is trying to be set on a copy of a slice from a DataFrame.\n",
            "Try using .loc[row_indexer,col_indexer] = value instead\n",
            "\n",
            "See the caveats in the documentation: https://pandas.pydata.org/pandas-docs/stable/user_guide/indexing.html#returning-a-view-versus-a-copy\n",
            "  \"\"\"\n"
          ],
          "name": "stderr"
        }
      ]
    },
    {
      "cell_type": "code",
      "metadata": {
        "id": "v7N0_iXvCnfM"
      },
      "source": [
        "def set_fraud(row):\n",
        "    if row[\"fraud\"] >= 0 and row[\"fraud\"] < 1:\n",
        "        return \"No fraud\"\n",
        "    else:\n",
        "        return \"fraud\""
      ],
      "execution_count": null,
      "outputs": []
    },
    {
      "cell_type": "code",
      "metadata": {
        "colab": {
          "base_uri": "https://localhost:8080/",
          "height": 200
        },
        "id": "k3h6XHvGC_8k",
        "outputId": "8d51cfb8-2571-4cbb-de66-a8824a67c1ef"
      },
      "source": [
        "df = df.assign(fraud_DESC=df.apply(set_fraud, axis=1))\n",
        "\n",
        "df.head()"
      ],
      "execution_count": null,
      "outputs": [
        {
          "output_type": "execute_result",
          "data": {
            "text/html": [
              "<div>\n",
              "<style scoped>\n",
              "    .dataframe tbody tr th:only-of-type {\n",
              "        vertical-align: middle;\n",
              "    }\n",
              "\n",
              "    .dataframe tbody tr th {\n",
              "        vertical-align: top;\n",
              "    }\n",
              "\n",
              "    .dataframe thead th {\n",
              "        text-align: right;\n",
              "    }\n",
              "</style>\n",
              "<table border=\"1\" class=\"dataframe\">\n",
              "  <thead>\n",
              "    <tr style=\"text-align: right;\">\n",
              "      <th></th>\n",
              "      <th>fraud</th>\n",
              "      <th>fraud_DESC</th>\n",
              "    </tr>\n",
              "  </thead>\n",
              "  <tbody>\n",
              "    <tr>\n",
              "      <th>0</th>\n",
              "      <td>0</td>\n",
              "      <td>No fraud</td>\n",
              "    </tr>\n",
              "    <tr>\n",
              "      <th>1</th>\n",
              "      <td>0</td>\n",
              "      <td>No fraud</td>\n",
              "    </tr>\n",
              "    <tr>\n",
              "      <th>2</th>\n",
              "      <td>0</td>\n",
              "      <td>No fraud</td>\n",
              "    </tr>\n",
              "    <tr>\n",
              "      <th>3</th>\n",
              "      <td>0</td>\n",
              "      <td>No fraud</td>\n",
              "    </tr>\n",
              "    <tr>\n",
              "      <th>4</th>\n",
              "      <td>0</td>\n",
              "      <td>No fraud</td>\n",
              "    </tr>\n",
              "  </tbody>\n",
              "</table>\n",
              "</div>"
            ],
            "text/plain": [
              "   fraud fraud_DESC\n",
              "0      0   No fraud\n",
              "1      0   No fraud\n",
              "2      0   No fraud\n",
              "3      0   No fraud\n",
              "4      0   No fraud"
            ]
          },
          "metadata": {
            "tags": []
          },
          "execution_count": 282
        }
      ]
    },
    {
      "cell_type": "code",
      "metadata": {
        "colab": {
          "base_uri": "https://localhost:8080/",
          "height": 315
        },
        "id": "WOYMH9yfDWwS",
        "outputId": "ffaa2914-aaf8-4411-f2ba-874b220efb02"
      },
      "source": [
        "import seaborn as sns\n",
        "sns.countplot(data=df, x = 'fraud_DESC', label='Count')\n",
        "\n",
        "AB, NB = df['fraud_DESC'].value_counts()\n",
        "print('Jumlah produk yang memiliki No fraud : ',AB)\n",
        "print('Jumlah produk yang memiliki fraud    : ',NB)"
      ],
      "execution_count": null,
      "outputs": [
        {
          "output_type": "stream",
          "text": [
            "Jumlah produk yang memiliki No fraud :  1775\n",
            "Jumlah produk yang memiliki fraud    :  104\n"
          ],
          "name": "stdout"
        },
        {
          "output_type": "display_data",
          "data": {
            "image/png": "[encoded data removed]",
            "text/plain": [
              "<Figure size 432x288 with 1 Axes>"
            ]
          },
          "metadata": {
            "tags": [],
            "needs_background": "light"
          }
        }
      ]
    },
    {
      "cell_type": "markdown",
      "metadata": {
        "id": "Gyvm8mhqFrkR"
      },
      "source": [
        "**Preprocessing**"
      ]
    },
    {
      "cell_type": "code",
      "metadata": {
        "id": "g3qH-rcoKode"
      },
      "source": [
        "x, y = data.drop('fraud', axis=1), data['fraud']"
      ],
      "execution_count": null,
      "outputs": []
    },
    {
      "cell_type": "code",
      "metadata": {
        "id": "R9tzRlaJKVTw"
      },
      "source": [
        "from sklearn.manifold import TSNE\n",
        "tsne = TSNE(n_components=2)\n",
        "X_tsne = tsne.fit_transform(x)"
      ],
      "execution_count": null,
      "outputs": []
    },
    {
      "cell_type": "code",
      "metadata": {
        "colab": {
          "base_uri": "https://localhost:8080/"
        },
        "id": "QTKdbCupKV2h",
        "outputId": "529dbaa8-9eb1-4ec7-ccc5-ae0a302588f7"
      },
      "source": [
        "from sklearn.preprocessing import LabelEncoder\n",
        "le = LabelEncoder()\n",
        "y = le.fit_transform(data.fraud)\n",
        "set(y)"
      ],
      "execution_count": null,
      "outputs": [
        {
          "output_type": "execute_result",
          "data": {
            "text/plain": [
              "{0, 1}"
            ]
          },
          "metadata": {
            "tags": []
          },
          "execution_count": 286
        }
      ]
    },
    {
      "cell_type": "code",
      "metadata": {
        "colab": {
          "base_uri": "https://localhost:8080/",
          "height": 518
        },
        "id": "7dfs7wm3KZs6",
        "outputId": "90566509-e503-4ac7-b394-50351eef7dc0"
      },
      "source": [
        "import matplotlib.patches as mpatches\n",
        "\n",
        "f, ax = plt.subplots(figsize=(10,8))\n",
        "\n",
        "blue_patch = mpatches.Patch(color='#0A0AFF', label='No Fraud')\n",
        "red_patch = mpatches.Patch(color='#AF0000', label='Fraud')\n",
        "\n",
        "ax.scatter(X_tsne[:,0], X_tsne[:,1], c=(y == 0), cmap='coolwarm', label='No Fraud', linewidths=2)\n",
        "ax.scatter(X_tsne[:,0], X_tsne[:,1], c=(y == 1), cmap='coolwarm', label='Fraud', linewidths=2)\n",
        "ax.set_title('t-SNE', fontsize=14)\n",
        "\n",
        "ax.grid(True)\n",
        "\n",
        "ax.legend(handles=[blue_patch, red_patch])"
      ],
      "execution_count": null,
      "outputs": [
        {
          "output_type": "execute_result",
          "data": {
            "text/plain": [
              "<matplotlib.legend.Legend at 0x7fcee4cc6940>"
            ]
          },
          "metadata": {
            "tags": []
          },
          "execution_count": 287
        },
        {
          "output_type": "display_data",
          "data": {
            "image/png": "[encoded data removed]",
            "text/plain": [
              "<Figure size 720x576 with 1 Axes>"
            ]
          },
          "metadata": {
            "tags": [],
            "needs_background": "light"
          }
        }
      ]
    },
    {
      "cell_type": "markdown",
      "metadata": {
        "id": "m9r7-GL2H_AM"
      },
      "source": [
        "**Classification**"
      ]
    },
    {
      "cell_type": "code",
      "metadata": {
        "id": "-lGPYaEL-x1A"
      },
      "source": [
        "from sklearn.model_selection import train_test_split\n",
        "X_train, X_test, y_train, y_test = train_test_split(x, y, test_size=0.2)"
      ],
      "execution_count": null,
      "outputs": []
    },
    {
      "cell_type": "code",
      "metadata": {
        "colab": {
          "base_uri": "https://localhost:8080/"
        },
        "id": "txC1sF-funJJ",
        "outputId": "96edda85-8ba4-4cb7-c827-e5acb4352d6f"
      },
      "source": [
        "from sklearn.linear_model import LogisticRegression\n",
        "from sklearn.feature_selection import RFE\n",
        "\n",
        "\n",
        "for n in range(1, len(list(x)) + 1):\n",
        "    clasiffication = LogisticRegression(solver='lbfgs', multi_class='multinomial', max_iter=1000)\n",
        "    result_features = RFE(estimator=clasiffication, n_features_to_select=n, step=1).fit(x,y)\n",
        "    print(\"Result features: \" + str(n) + \":\")\n",
        "    print(x.columns[result_features.get_support()].values)\n",
        "    print()"
      ],
      "execution_count": null,
      "outputs": [
        {
          "output_type": "stream",
          "text": [
            "Result features: 1:\n",
            "['valuePerSecond']\n",
            "\n",
            "Result features: 2:\n",
            "['trustLevel' 'valuePerSecond']\n",
            "\n",
            "Result features: 3:\n",
            "['trustLevel' 'valuePerSecond' 'lineItemVoidsPerPosition']\n",
            "\n",
            "Result features: 4:\n",
            "['trustLevel' 'valuePerSecond' 'lineItemVoidsPerPosition'\n",
            " 'CountTimePerSecond']\n",
            "\n",
            "Result features: 5:\n",
            "['trustLevel' 'lineItemVoids' 'valuePerSecond' 'lineItemVoidsPerPosition'\n",
            " 'CountTimePerSecond']\n",
            "\n",
            "Result features: 6:\n",
            "['trustLevel' 'lineItemVoids' 'scansWithoutRegistration' 'valuePerSecond'\n",
            " 'lineItemVoidsPerPosition' 'CountTimePerSecond']\n",
            "\n",
            "Result features: 7:\n",
            "['trustLevel' 'totalScanTimeInSeconds' 'lineItemVoids'\n",
            " 'scansWithoutRegistration' 'valuePerSecond' 'lineItemVoidsPerPosition'\n",
            " 'CountTimePerSecond']\n",
            "\n",
            "Result features: 8:\n",
            "['trustLevel' 'totalScanTimeInSeconds' 'lineItemVoids'\n",
            " 'scansWithoutRegistration' 'valuePerSecond' 'lineItemVoidsPerPosition'\n",
            " 'CountTimeScan' 'CountTimePerSecond']\n",
            "\n",
            "Result features: 9:\n",
            "['trustLevel' 'totalScanTimeInSeconds' 'grandTotal' 'lineItemVoids'\n",
            " 'scansWithoutRegistration' 'valuePerSecond' 'lineItemVoidsPerPosition'\n",
            " 'CountTimeScan' 'CountTimePerSecond']\n",
            "\n",
            "Result features: 10:\n",
            "['trustLevel' 'totalScanTimeInSeconds' 'grandTotal' 'lineItemVoids'\n",
            " 'scansWithoutRegistration' 'valuePerSecond' 'lineItemVoidsPerPosition'\n",
            " 'ProductScan' 'CountTimeScan' 'CountTimePerSecond']\n",
            "\n",
            "Result features: 11:\n",
            "['trustLevel' 'totalScanTimeInSeconds' 'grandTotal' 'lineItemVoids'\n",
            " 'scansWithoutRegistration' 'scannedLineItemsPerSecond' 'valuePerSecond'\n",
            " 'lineItemVoidsPerPosition' 'ProductScan' 'CountTimeScan'\n",
            " 'CountTimePerSecond']\n",
            "\n",
            "Result features: 12:\n",
            "['trustLevel' 'totalScanTimeInSeconds' 'grandTotal' 'lineItemVoids'\n",
            " 'scansWithoutRegistration' 'quantityModifications'\n",
            " 'scannedLineItemsPerSecond' 'valuePerSecond' 'lineItemVoidsPerPosition'\n",
            " 'ProductScan' 'CountTimeScan' 'CountTimePerSecond']\n",
            "\n",
            "Result features: 13:\n",
            "['trustLevel' 'totalScanTimeInSeconds' 'grandTotal' 'lineItemVoids'\n",
            " 'scansWithoutRegistration' 'quantityModifications'\n",
            " 'scannedLineItemsPerSecond' 'valuePerSecond' 'lineItemVoidsPerPosition'\n",
            " 'lineItemVoidsScan' 'ProductScan' 'CountTimeScan' 'CountTimePerSecond']\n",
            "\n"
          ],
          "name": "stdout"
        }
      ]
    },
    {
      "cell_type": "code",
      "metadata": {
        "id": "pWFDOn3SwAVS",
        "colab": {
          "base_uri": "https://localhost:8080/"
        },
        "outputId": "3ae0389a-187e-42cc-b481-83f5f0a92e79"
      },
      "source": [
        "from sklearn.metrics import classification_report, confusion_matrix\n",
        "\n",
        "y_pred = result_features.predict(X_test)\n",
        "print(confusion_matrix(y_test, y_pred))\n",
        "print(classification_report(y_test, y_pred))"
      ],
      "execution_count": null,
      "outputs": [
        {
          "output_type": "stream",
          "text": [
            "[[354   5]\n",
            " [  4  13]]\n",
            "              precision    recall  f1-score   support\n",
            "\n",
            "           0       0.99      0.99      0.99       359\n",
            "           1       0.72      0.76      0.74        17\n",
            "\n",
            "    accuracy                           0.98       376\n",
            "   macro avg       0.86      0.88      0.87       376\n",
            "weighted avg       0.98      0.98      0.98       376\n",
            "\n"
          ],
          "name": "stdout"
        }
      ]
    },
    {
      "cell_type": "code",
      "metadata": {
        "id": "Iwsi0kJHAg9i",
        "colab": {
          "base_uri": "https://localhost:8080/",
          "height": 477
        },
        "outputId": "77836862-0a92-43b6-c7ff-59166c51d85e"
      },
      "source": [
        "from sklearn.feature_selection import RFECV\n",
        "from sklearn.ensemble import AdaBoostClassifier\n",
        "\n",
        "\n",
        "classifier = RFECV(AdaBoostClassifier(), min_features_to_select=1, cv=10, scoring='accuracy')\n",
        "classifier = classifier.fit(x,y)\n",
        "print(str(classifier.n_features_) + \" features:\")\n",
        "print(np.array(list(x))[np.array(classifier.support_)])\n",
        "plt.figure(figsize=(10,6))\n",
        "plt.xlabel(\"Number of features selected\")\n",
        "plt.ylabel(\"Cross validation score (nb of correct classifications)\")\n",
        "plt.plot(range(1, len(classifier.grid_scores_) + 1), classifier.grid_scores_)\n",
        "plt.show()"
      ],
      "execution_count": null,
      "outputs": [
        {
          "output_type": "stream",
          "text": [
            "10 features:\n",
            "['trustLevel' 'totalScanTimeInSeconds' 'lineItemVoids'\n",
            " 'scansWithoutRegistration' 'scannedLineItemsPerSecond' 'valuePerSecond'\n",
            " 'lineItemVoidsPerPosition' 'ProductScan' 'CountTimeScan'\n",
            " 'CountTimePerSecond']\n"
          ],
          "name": "stdout"
        },
        {
          "output_type": "display_data",
          "data": {
            "image/png": "[encoded data removed]",
            "text/plain": [
              "<Figure size 720x432 with 1 Axes>"
            ]
          },
          "metadata": {
            "tags": [],
            "needs_background": "light"
          }
        }
      ]
    },
    {
      "cell_type": "code",
      "metadata": {
        "id": "IaQei8E2vLV4",
        "colab": {
          "base_uri": "https://localhost:8080/"
        },
        "outputId": "2fc6aeb2-28ed-4723-c881-ef64c752d06c"
      },
      "source": [
        "from sklearn.metrics import classification_report, confusion_matrix\n",
        "from sklearn.model_selection import train_test_split\n",
        "X_train, X_test, y_train, y_test = train_test_split(x, y, test_size=0.2)\n",
        "y_pred = classifier.predict(X_test)\n",
        "print(confusion_matrix(y_test, y_pred))\n",
        "print(classification_report(y_test, y_pred))"
      ],
      "execution_count": null,
      "outputs": [
        {
          "output_type": "stream",
          "text": [
            "[[354   0]\n",
            " [  1  21]]\n",
            "              precision    recall  f1-score   support\n",
            "\n",
            "           0       1.00      1.00      1.00       354\n",
            "           1       1.00      0.95      0.98        22\n",
            "\n",
            "    accuracy                           1.00       376\n",
            "   macro avg       1.00      0.98      0.99       376\n",
            "weighted avg       1.00      1.00      1.00       376\n",
            "\n"
          ],
          "name": "stdout"
        }
      ]
    },
    {
      "cell_type": "markdown",
      "metadata": {
        "id": "SVj4WAql_XU_"
      },
      "source": [
        "**Evaluation**"
      ]
    },
    {
      "cell_type": "code",
      "metadata": {
        "id": "HUnza33rAjsc",
        "colab": {
          "base_uri": "https://localhost:8080/"
        },
        "outputId": "83cec4e5-51a2-47ae-e83f-e754b0b3e211"
      },
      "source": [
        "result = classifier.estimator_\n",
        "\n",
        "from sklearn.metrics import confusion_matrix\n",
        "\n",
        "def This_count(cost):\n",
        "        tn, fp, fn, tp = cost.ravel()\n",
        "        print(\"TN: \", tn)\n",
        "        print(\"FP: \", fp)\n",
        "        print(\"FN: \", fn)\n",
        "        print(\"TP: \", tp)\n",
        "        result = (-25)*fp + (-5)*fn + 5*tp + 0*tn\n",
        "        print(str(result) + \" € is cost\")\n",
        "        print(str(result/sum(sum(cost))) + \" the average result\")\n",
        "        return result\n",
        "    \n",
        "cost = confusion_matrix(y , result.predict(x.loc[:, classifier.support_]))\n",
        "\n",
        "Value = This_count(cost)"
      ],
      "execution_count": null,
      "outputs": [
        {
          "output_type": "stream",
          "text": [
            "TN:  1774\n",
            "FP:  1\n",
            "FN:  4\n",
            "TP:  100\n",
            "455 € is cost\n",
            "0.24215007982969664 the average result\n"
          ],
          "name": "stdout"
        }
      ]
    }
  ]
}